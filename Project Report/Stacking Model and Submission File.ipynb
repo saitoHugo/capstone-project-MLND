{
 "cells": [
  {
   "cell_type": "code",
   "execution_count": 1,
   "metadata": {},
   "outputs": [],
   "source": [
    "# Import libraries necessary for this project\n",
    "import numpy as np\n",
    "import pandas as pd\n",
    "import matplotlib.pyplot as plt\n",
    "import seaborn as sns\n",
    "from IPython.display import display # Allows the use of display() for DataFrames\n",
    "import scipy \n",
    "from matplotlib import pylab\n",
    "import collections \n",
    "\n",
    "# Pretty display for notebooks\n",
    "%matplotlib inline"
   ]
  },
  {
   "cell_type": "markdown",
   "metadata": {},
   "source": [
    "## Ensemble Method - Stacking Regression\n",
    "\n"
   ]
  },
  {
   "cell_type": "markdown",
   "metadata": {},
   "source": [
    "### Load raining dataset"
   ]
  },
  {
   "cell_type": "code",
   "execution_count": 2,
   "metadata": {},
   "outputs": [
    {
     "data": {
      "text/html": [
       "<div>\n",
       "<style scoped>\n",
       "    .dataframe tbody tr th:only-of-type {\n",
       "        vertical-align: middle;\n",
       "    }\n",
       "\n",
       "    .dataframe tbody tr th {\n",
       "        vertical-align: top;\n",
       "    }\n",
       "\n",
       "    .dataframe thead th {\n",
       "        text-align: right;\n",
       "    }\n",
       "</style>\n",
       "<table border=\"1\" class=\"dataframe\">\n",
       "  <thead>\n",
       "    <tr style=\"text-align: right;\">\n",
       "      <th></th>\n",
       "      <th>Id</th>\n",
       "      <th>MSSubClass</th>\n",
       "      <th>LotArea</th>\n",
       "      <th>OverallQual</th>\n",
       "      <th>OverallCond</th>\n",
       "      <th>YearBuilt</th>\n",
       "      <th>YearRemodAdd</th>\n",
       "      <th>BsmtFinSF1</th>\n",
       "      <th>BsmtFinSF2</th>\n",
       "      <th>BsmtUnfSF</th>\n",
       "      <th>...</th>\n",
       "      <th>SaleType_New</th>\n",
       "      <th>SaleType_Oth</th>\n",
       "      <th>SaleType_WD</th>\n",
       "      <th>SaleCondition_Abnorml</th>\n",
       "      <th>SaleCondition_AdjLand</th>\n",
       "      <th>SaleCondition_Alloca</th>\n",
       "      <th>SaleCondition_Family</th>\n",
       "      <th>SaleCondition_Normal</th>\n",
       "      <th>SaleCondition_Partial</th>\n",
       "      <th>SalePrice</th>\n",
       "    </tr>\n",
       "  </thead>\n",
       "  <tbody>\n",
       "    <tr>\n",
       "      <th>0</th>\n",
       "      <td>1</td>\n",
       "      <td>60</td>\n",
       "      <td>9.042040</td>\n",
       "      <td>7</td>\n",
       "      <td>1.791759</td>\n",
       "      <td>2003</td>\n",
       "      <td>2003</td>\n",
       "      <td>6.561031</td>\n",
       "      <td>0.0</td>\n",
       "      <td>5.017280</td>\n",
       "      <td>...</td>\n",
       "      <td>0</td>\n",
       "      <td>0</td>\n",
       "      <td>1</td>\n",
       "      <td>0</td>\n",
       "      <td>0</td>\n",
       "      <td>0</td>\n",
       "      <td>0</td>\n",
       "      <td>1</td>\n",
       "      <td>0</td>\n",
       "      <td>12.247699</td>\n",
       "    </tr>\n",
       "    <tr>\n",
       "      <th>1</th>\n",
       "      <td>2</td>\n",
       "      <td>20</td>\n",
       "      <td>9.169623</td>\n",
       "      <td>6</td>\n",
       "      <td>2.197225</td>\n",
       "      <td>1976</td>\n",
       "      <td>1976</td>\n",
       "      <td>6.886532</td>\n",
       "      <td>0.0</td>\n",
       "      <td>5.652489</td>\n",
       "      <td>...</td>\n",
       "      <td>0</td>\n",
       "      <td>0</td>\n",
       "      <td>1</td>\n",
       "      <td>0</td>\n",
       "      <td>0</td>\n",
       "      <td>0</td>\n",
       "      <td>0</td>\n",
       "      <td>1</td>\n",
       "      <td>0</td>\n",
       "      <td>12.109016</td>\n",
       "    </tr>\n",
       "    <tr>\n",
       "      <th>2</th>\n",
       "      <td>3</td>\n",
       "      <td>60</td>\n",
       "      <td>9.328212</td>\n",
       "      <td>7</td>\n",
       "      <td>1.791759</td>\n",
       "      <td>2001</td>\n",
       "      <td>2002</td>\n",
       "      <td>6.188264</td>\n",
       "      <td>0.0</td>\n",
       "      <td>6.075346</td>\n",
       "      <td>...</td>\n",
       "      <td>0</td>\n",
       "      <td>0</td>\n",
       "      <td>1</td>\n",
       "      <td>0</td>\n",
       "      <td>0</td>\n",
       "      <td>0</td>\n",
       "      <td>0</td>\n",
       "      <td>1</td>\n",
       "      <td>0</td>\n",
       "      <td>12.317171</td>\n",
       "    </tr>\n",
       "    <tr>\n",
       "      <th>3</th>\n",
       "      <td>4</td>\n",
       "      <td>70</td>\n",
       "      <td>9.164401</td>\n",
       "      <td>7</td>\n",
       "      <td>1.791759</td>\n",
       "      <td>1915</td>\n",
       "      <td>1970</td>\n",
       "      <td>5.379897</td>\n",
       "      <td>0.0</td>\n",
       "      <td>6.293419</td>\n",
       "      <td>...</td>\n",
       "      <td>0</td>\n",
       "      <td>0</td>\n",
       "      <td>1</td>\n",
       "      <td>1</td>\n",
       "      <td>0</td>\n",
       "      <td>0</td>\n",
       "      <td>0</td>\n",
       "      <td>0</td>\n",
       "      <td>0</td>\n",
       "      <td>11.849405</td>\n",
       "    </tr>\n",
       "    <tr>\n",
       "      <th>4</th>\n",
       "      <td>5</td>\n",
       "      <td>60</td>\n",
       "      <td>9.565284</td>\n",
       "      <td>8</td>\n",
       "      <td>1.791759</td>\n",
       "      <td>2000</td>\n",
       "      <td>2000</td>\n",
       "      <td>6.486161</td>\n",
       "      <td>0.0</td>\n",
       "      <td>6.196444</td>\n",
       "      <td>...</td>\n",
       "      <td>0</td>\n",
       "      <td>0</td>\n",
       "      <td>1</td>\n",
       "      <td>0</td>\n",
       "      <td>0</td>\n",
       "      <td>0</td>\n",
       "      <td>0</td>\n",
       "      <td>1</td>\n",
       "      <td>0</td>\n",
       "      <td>12.429220</td>\n",
       "    </tr>\n",
       "  </tbody>\n",
       "</table>\n",
       "<p>5 rows × 222 columns</p>\n",
       "</div>"
      ],
      "text/plain": [
       "   Id  MSSubClass   LotArea  OverallQual  OverallCond  YearBuilt  \\\n",
       "0   1          60  9.042040            7     1.791759       2003   \n",
       "1   2          20  9.169623            6     2.197225       1976   \n",
       "2   3          60  9.328212            7     1.791759       2001   \n",
       "3   4          70  9.164401            7     1.791759       1915   \n",
       "4   5          60  9.565284            8     1.791759       2000   \n",
       "\n",
       "   YearRemodAdd  BsmtFinSF1  BsmtFinSF2  BsmtUnfSF    ...      SaleType_New  \\\n",
       "0          2003    6.561031         0.0   5.017280    ...                 0   \n",
       "1          1976    6.886532         0.0   5.652489    ...                 0   \n",
       "2          2002    6.188264         0.0   6.075346    ...                 0   \n",
       "3          1970    5.379897         0.0   6.293419    ...                 0   \n",
       "4          2000    6.486161         0.0   6.196444    ...                 0   \n",
       "\n",
       "   SaleType_Oth  SaleType_WD  SaleCondition_Abnorml  SaleCondition_AdjLand  \\\n",
       "0             0            1                      0                      0   \n",
       "1             0            1                      0                      0   \n",
       "2             0            1                      0                      0   \n",
       "3             0            1                      1                      0   \n",
       "4             0            1                      0                      0   \n",
       "\n",
       "   SaleCondition_Alloca  SaleCondition_Family  SaleCondition_Normal  \\\n",
       "0                     0                     0                     1   \n",
       "1                     0                     0                     1   \n",
       "2                     0                     0                     1   \n",
       "3                     0                     0                     0   \n",
       "4                     0                     0                     1   \n",
       "\n",
       "   SaleCondition_Partial  SalePrice  \n",
       "0                      0  12.247699  \n",
       "1                      0  12.109016  \n",
       "2                      0  12.317171  \n",
       "3                      0  11.849405  \n",
       "4                      0  12.429220  \n",
       "\n",
       "[5 rows x 222 columns]"
      ]
     },
     "metadata": {},
     "output_type": "display_data"
    }
   ],
   "source": [
    "#load preprocessed training dataset\n",
    "train =  pd.read_pickle(\"./data/preprocessed/preprocessed_train.pkl\")\n",
    "display(train.head())\n",
    "\n",
    "#select just the features\n",
    "features = train.drop(labels=['SalePrice', 'Id'], axis=1)\n",
    "#select only the sale price\n",
    "target = train['SalePrice']\n",
    "#select only the identification number\n",
    "ID = train['Id']"
   ]
  },
  {
   "cell_type": "code",
   "execution_count": 3,
   "metadata": {},
   "outputs": [
    {
     "data": {
      "text/plain": [
       "(1460L,)"
      ]
     },
     "execution_count": 3,
     "metadata": {},
     "output_type": "execute_result"
    }
   ],
   "source": [
    "#display the shape (lenght) of target\n",
    "target.shape"
   ]
  },
  {
   "cell_type": "code",
   "execution_count": 4,
   "metadata": {},
   "outputs": [
    {
     "data": {
      "text/plain": [
       "0    12.247699\n",
       "1    12.109016\n",
       "2    12.317171\n",
       "3    11.849405\n",
       "4    12.429220\n",
       "Name: SalePrice, dtype: float64"
      ]
     },
     "execution_count": 4,
     "metadata": {},
     "output_type": "execute_result"
    }
   ],
   "source": [
    "#target visualization\n",
    "target.head()"
   ]
  },
  {
   "cell_type": "code",
   "execution_count": 5,
   "metadata": {},
   "outputs": [],
   "source": [
    "#Split TRAINING SET into train and test sets\n",
    "from sklearn.model_selection import train_test_split\n",
    "\n",
    "#Split into train and test dataset, where 20% going to be test samples\n",
    "X_train, X_test, y_train, y_test = train_test_split(features, target, test_size=0.20, random_state=42)\n",
    "\n"
   ]
  },
  {
   "cell_type": "code",
   "execution_count": 6,
   "metadata": {},
   "outputs": [
    {
     "data": {
      "text/plain": [
       "(1168L,)"
      ]
     },
     "execution_count": 6,
     "metadata": {},
     "output_type": "execute_result"
    }
   ],
   "source": [
    "#display the number of sample of traning dataset\n",
    "y_train.shape"
   ]
  },
  {
   "cell_type": "code",
   "execution_count": 7,
   "metadata": {},
   "outputs": [],
   "source": [
    "#Split again because blender for stacking there are 2 traninig process\n",
    "X_train1, X_train2, y_train1, y_train2 = train_test_split(X_train, y_train, test_size=0.35, random_state=42)"
   ]
  },
  {
   "cell_type": "code",
   "execution_count": 8,
   "metadata": {},
   "outputs": [
    {
     "name": "stdout",
     "output_type": "stream",
     "text": [
      "220 220\n"
     ]
    }
   ],
   "source": [
    "#print X_train.columns.values\n",
    "\n",
    "#verify the lenght\n",
    "print len(X_train1.columns.values), len(X_train2.columns.values)"
   ]
  },
  {
   "cell_type": "code",
   "execution_count": 9,
   "metadata": {},
   "outputs": [
    {
     "data": {
      "text/plain": [
       "759"
      ]
     },
     "execution_count": 9,
     "metadata": {},
     "output_type": "execute_result"
    }
   ],
   "source": [
    "#verify the lenght\n",
    "len(X_train1)"
   ]
  },
  {
   "cell_type": "code",
   "execution_count": 10,
   "metadata": {},
   "outputs": [
    {
     "data": {
      "text/plain": [
       "409"
      ]
     },
     "execution_count": 10,
     "metadata": {},
     "output_type": "execute_result"
    }
   ],
   "source": [
    "#verify the lenght\n",
    "len(X_train2)"
   ]
  },
  {
   "cell_type": "code",
   "execution_count": 11,
   "metadata": {},
   "outputs": [
    {
     "data": {
      "text/plain": [
       "292"
      ]
     },
     "execution_count": 11,
     "metadata": {},
     "output_type": "execute_result"
    }
   ],
   "source": [
    "#verify the lenght\n",
    "len(X_test)"
   ]
  },
  {
   "cell_type": "code",
   "execution_count": 12,
   "metadata": {},
   "outputs": [
    {
     "data": {
      "text/plain": [
       "(759L,)"
      ]
     },
     "execution_count": 12,
     "metadata": {},
     "output_type": "execute_result"
    }
   ],
   "source": [
    "#verify the lenght\n",
    "y_train1.shape"
   ]
  },
  {
   "cell_type": "markdown",
   "metadata": {},
   "source": [
    "### Create and Fit the Base Models"
   ]
  },
  {
   "cell_type": "code",
   "execution_count": 13,
   "metadata": {},
   "outputs": [
    {
     "data": {
      "text/plain": [
       "DecisionTreeRegressor(criterion='friedman_mse', max_depth=None,\n",
       "           max_features='auto', max_leaf_nodes=None,\n",
       "           min_impurity_decrease=0.0, min_impurity_split=None,\n",
       "           min_samples_leaf=1, min_samples_split=2,\n",
       "           min_weight_fraction_leaf=0.0, presort=False, random_state=None,\n",
       "           splitter='best')"
      ]
     },
     "execution_count": 13,
     "metadata": {},
     "output_type": "execute_result"
    }
   ],
   "source": [
    "#Decision Tree Regressor\n",
    "\n",
    "#Import model\n",
    "from sklearn.tree import DecisionTreeRegressor\n",
    "\n",
    "#Create Regressor\n",
    "tree_reg= DecisionTreeRegressor(criterion='friedman_mse', max_depth=None,\n",
    "           max_features='auto', max_leaf_nodes=None,\n",
    "           min_impurity_decrease=0.0, min_impurity_split=None,\n",
    "           min_samples_leaf=1, min_samples_split=2,\n",
    "           min_weight_fraction_leaf=0.0, presort=False, random_state=None,\n",
    "           splitter='best')\n",
    "\n",
    "#Fit\n",
    "tree_reg.fit(X_train1, y_train1)\n"
   ]
  },
  {
   "cell_type": "code",
   "execution_count": 14,
   "metadata": {},
   "outputs": [
    {
     "name": "stdout",
     "output_type": "stream",
     "text": [
      "DecisionTreeRegressor(criterion='friedman_mse', max_depth=None,\n",
      "           max_features='auto', max_leaf_nodes=None,\n",
      "           min_impurity_decrease=0.0, min_impurity_split=None,\n",
      "           min_samples_leaf=1, min_samples_split=2,\n",
      "           min_weight_fraction_leaf=0.0, presort=False, random_state=None,\n",
      "           splitter='best')\n"
     ]
    }
   ],
   "source": [
    "print tree_reg"
   ]
  },
  {
   "cell_type": "markdown",
   "metadata": {},
   "source": [
    "RMSE Metric\n",
    "Scores:  [0.2038968  0.23366443 0.22982821]\n",
    "Mean: 0.22246314630207745\n",
    "Standard Deviation:  0.013221472127812437"
   ]
  },
  {
   "cell_type": "code",
   "execution_count": 15,
   "metadata": {},
   "outputs": [
    {
     "data": {
      "text/plain": [
       "KNeighborsRegressor(algorithm='ball_tree', leaf_size=30, metric='minkowski',\n",
       "          metric_params=None, n_jobs=1, n_neighbors=6, p=1,\n",
       "          weights='distance')"
      ]
     },
     "execution_count": 15,
     "metadata": {},
     "output_type": "execute_result"
    }
   ],
   "source": [
    "#K Neighboors Regressor\n",
    "\n",
    "#Import model\n",
    "from sklearn.neighbors import KNeighborsRegressor\n",
    "\n",
    "#Create the regressor\n",
    "neigh = KNeighborsRegressor(algorithm='ball_tree', n_neighbors=6, p=1, weights='distance')\n",
    "\n",
    "#{'algorithm': 'ball_tree', 'n_neighbors': 6, 'p': 1, 'weights': 'distance'}\n",
    "\n",
    "#Fit\n",
    "neigh.fit(X_train1, y_train1)"
   ]
  },
  {
   "cell_type": "code",
   "execution_count": 16,
   "metadata": {},
   "outputs": [
    {
     "name": "stdout",
     "output_type": "stream",
     "text": [
      "KNeighborsRegressor(algorithm='ball_tree', leaf_size=30, metric='minkowski',\n",
      "          metric_params=None, n_jobs=1, n_neighbors=6, p=1,\n",
      "          weights='distance')\n"
     ]
    }
   ],
   "source": [
    "print neigh"
   ]
  },
  {
   "cell_type": "markdown",
   "metadata": {},
   "source": [
    "RMSE Metric\n",
    "Scores:  [0.25410762 0.24924477 0.20992898]\n",
    "Mean: 0.23776045523237385\n",
    "Standard Deviation:  0.01977970242938253"
   ]
  },
  {
   "cell_type": "code",
   "execution_count": 17,
   "metadata": {},
   "outputs": [
    {
     "data": {
      "text/plain": [
       "KernelRidge(alpha=1.0, coef0=1, degree=2, gamma=0.001, kernel='linear',\n",
       "      kernel_params=None)"
      ]
     },
     "execution_count": 17,
     "metadata": {},
     "output_type": "execute_result"
    }
   ],
   "source": [
    "#Kernel Ridge Regressor\n",
    "\n",
    "#import model\n",
    "from sklearn.kernel_ridge import KernelRidge\n",
    "\n",
    "\n",
    "#Create Regressor\n",
    "ker_rid = KernelRidge(alpha=1.0, degree=2, gamma=0.001, kernel='linear')\n",
    "\n",
    "#{'alpha': 1.0, 'degree': 2, 'gamma': 0.001, 'kernel': 'linear'}\n",
    "\n",
    "#Fit\n",
    "ker_rid.fit(X_train1, y_train1)"
   ]
  },
  {
   "cell_type": "markdown",
   "metadata": {},
   "source": [
    "RMSE Metric\n",
    "Scores:  [0.1315246  0.1347771  0.13511582]\n",
    "Mean: 0.13380583733776083\n",
    "Standard Deviation:  0.0016189972512706927"
   ]
  },
  {
   "cell_type": "code",
   "execution_count": 18,
   "metadata": {},
   "outputs": [
    {
     "name": "stdout",
     "output_type": "stream",
     "text": [
      "KernelRidge(alpha=1.0, coef0=1, degree=2, gamma=0.001, kernel='linear',\n",
      "      kernel_params=None)\n"
     ]
    }
   ],
   "source": [
    "print ker_rid"
   ]
  },
  {
   "cell_type": "code",
   "execution_count": 19,
   "metadata": {},
   "outputs": [
    {
     "data": {
      "text/plain": [
       "LinearRegression(copy_X=True, fit_intercept=True, n_jobs=-1, normalize=False)"
      ]
     },
     "execution_count": 19,
     "metadata": {},
     "output_type": "execute_result"
    }
   ],
   "source": [
    "#Linear Regression\n",
    "\n",
    "from sklearn.linear_model import LinearRegression\n",
    "\n",
    "#Create regressor\n",
    "lin_reg = LinearRegression(n_jobs=-1)\n",
    "\n",
    "#Fit \n",
    "lin_reg.fit(X_train1, y_train1)"
   ]
  },
  {
   "cell_type": "markdown",
   "metadata": {},
   "source": [
    "RMSE Metric\n",
    "Scores:  [0.17171291 0.14545081 0.17146583]\n",
    "Mean: 0.1628765145739622\n",
    "Standard Deviation:  0.012322249565294896"
   ]
  },
  {
   "cell_type": "code",
   "execution_count": 20,
   "metadata": {},
   "outputs": [
    {
     "name": "stdout",
     "output_type": "stream",
     "text": [
      "LinearRegression(copy_X=True, fit_intercept=True, n_jobs=-1, normalize=False)\n"
     ]
    }
   ],
   "source": [
    "print lin_reg"
   ]
  },
  {
   "cell_type": "code",
   "execution_count": 21,
   "metadata": {},
   "outputs": [
    {
     "data": {
      "text/plain": [
       "Lasso(alpha=0.0001, copy_X=True, fit_intercept=True, max_iter=1000,\n",
       "   normalize=False, positive=False, precompute=False, random_state=None,\n",
       "   selection='random', tol=0.0001, warm_start=False)"
      ]
     },
     "execution_count": 21,
     "metadata": {},
     "output_type": "execute_result"
    }
   ],
   "source": [
    "#Lasso\n",
    "\n",
    "from sklearn.linear_model import Lasso\n",
    "\n",
    "#create \n",
    "lasso = Lasso(alpha=0.0001, fit_intercept=True, normalize= False, selection='random')\n",
    "\n",
    "#{'alpha': 0.0001, 'fit_intercept': True, 'normalize': False, 'selection': 'random'}\n",
    "\n",
    "#Fit\n",
    "lasso.fit(X_train1, y_train1)"
   ]
  },
  {
   "cell_type": "markdown",
   "metadata": {},
   "source": [
    "RMSE Metric\n",
    "Scores:  [0.15035719 0.13107585 0.13499215]\n",
    "Mean: 0.13880839390878633\n",
    "Standard Deviation:  0.00832127350957245"
   ]
  },
  {
   "cell_type": "code",
   "execution_count": 22,
   "metadata": {},
   "outputs": [
    {
     "name": "stdout",
     "output_type": "stream",
     "text": [
      "Lasso(alpha=0.0001, copy_X=True, fit_intercept=True, max_iter=1000,\n",
      "   normalize=False, positive=False, precompute=False, random_state=None,\n",
      "   selection='random', tol=0.0001, warm_start=False)\n"
     ]
    }
   ],
   "source": [
    "print lasso"
   ]
  },
  {
   "cell_type": "code",
   "execution_count": 23,
   "metadata": {},
   "outputs": [
    {
     "data": {
      "text/plain": [
       "ElasticNet(alpha=0.0001, copy_X=True, fit_intercept=True, l1_ratio=1.0,\n",
       "      max_iter=1000, normalize=False, positive=False, precompute=False,\n",
       "      random_state=None, selection='random', tol=0.0001, warm_start=False)"
      ]
     },
     "execution_count": 23,
     "metadata": {},
     "output_type": "execute_result"
    }
   ],
   "source": [
    "#Elastic Net Regressor\n",
    "\n",
    "from sklearn.linear_model import ElasticNet\n",
    "\n",
    "#create regrossor\n",
    "elastic = ElasticNet(alpha=0.0001, fit_intercept=True, l1_ratio=1.0, normalize=False, selection='random')\n",
    "\n",
    "#{'alpha': 0.0001,  'fit_intercept': True,  'l1_ratio': 1.0, 'normalize': False, 'selection': 'random'}\n",
    "\n",
    "#Fit\n",
    "elastic.fit(X_train1, y_train1)"
   ]
  },
  {
   "cell_type": "markdown",
   "metadata": {},
   "source": [
    "RMSE Metric\n",
    "Scores:  [0.15045421 0.13108303 0.13507172]\n",
    "Mean: 0.1388696531754481\n",
    "Standard Deviation:  0.008351803659718092"
   ]
  },
  {
   "cell_type": "code",
   "execution_count": 24,
   "metadata": {},
   "outputs": [
    {
     "name": "stdout",
     "output_type": "stream",
     "text": [
      "ElasticNet(alpha=0.0001, copy_X=True, fit_intercept=True, l1_ratio=1.0,\n",
      "      max_iter=1000, normalize=False, positive=False, precompute=False,\n",
      "      random_state=None, selection='random', tol=0.0001, warm_start=False)\n"
     ]
    }
   ],
   "source": [
    "print elastic"
   ]
  },
  {
   "cell_type": "code",
   "execution_count": 25,
   "metadata": {
    "scrolled": true
   },
   "outputs": [
    {
     "data": {
      "text/plain": [
       "GradientBoostingRegressor(alpha=0.0001, criterion='mse', init=None,\n",
       "             learning_rate=0.1, loss='ls', max_depth=4,\n",
       "             max_features='sqrt', max_leaf_nodes=None,\n",
       "             min_impurity_decrease=0.0, min_impurity_split=None,\n",
       "             min_samples_leaf=1, min_samples_split=2,\n",
       "             min_weight_fraction_leaf=0.0, n_estimators=100,\n",
       "             presort='auto', random_state=None, subsample=1.0, verbose=0,\n",
       "             warm_start=False)"
      ]
     },
     "execution_count": 25,
     "metadata": {},
     "output_type": "execute_result"
    }
   ],
   "source": [
    "#Gradient Booting regressor\n",
    "\n",
    "from sklearn.ensemble import GradientBoostingRegressor\n",
    "\n",
    "#Create Regressor\n",
    "GBR = GradientBoostingRegressor(alpha=0.0001, criterion='mse', loss='ls', max_depth=4, max_features='sqrt')\n",
    "\n",
    "#{'alpha': 0.0001, 'criterion': 'mse', 'loss': 'ls', 'max_depth': 4, 'max_features': 'sqrt'}\n",
    "\n",
    "GBR.fit(X_train1, y_train1)"
   ]
  },
  {
   "cell_type": "markdown",
   "metadata": {},
   "source": [
    "RMSE Metric\n",
    "Scores:  [0.13831081 0.15751812 0.13147632]\n",
    "Mean: 0.1424350829195781\n",
    "Standard Deviation:  0.011024247065513146"
   ]
  },
  {
   "cell_type": "code",
   "execution_count": 26,
   "metadata": {},
   "outputs": [
    {
     "name": "stdout",
     "output_type": "stream",
     "text": [
      "GradientBoostingRegressor(alpha=0.0001, criterion='mse', init=None,\n",
      "             learning_rate=0.1, loss='ls', max_depth=4,\n",
      "             max_features='sqrt', max_leaf_nodes=None,\n",
      "             min_impurity_decrease=0.0, min_impurity_split=None,\n",
      "             min_samples_leaf=1, min_samples_split=2,\n",
      "             min_weight_fraction_leaf=0.0, n_estimators=100,\n",
      "             presort='auto', random_state=None, subsample=1.0, verbose=0,\n",
      "             warm_start=False)\n"
     ]
    }
   ],
   "source": [
    "print GBR"
   ]
  },
  {
   "cell_type": "code",
   "execution_count": 27,
   "metadata": {},
   "outputs": [
    {
     "data": {
      "text/plain": [
       "RandomForestRegressor(bootstrap=True, criterion='mse', max_depth=10,\n",
       "           max_features=None, max_leaf_nodes=None,\n",
       "           min_impurity_decrease=0.0, min_impurity_split=None,\n",
       "           min_samples_leaf=1, min_samples_split=2,\n",
       "           min_weight_fraction_leaf=0.0, n_estimators=10, n_jobs=-1,\n",
       "           oob_score=False, random_state=None, verbose=0, warm_start=False)"
      ]
     },
     "execution_count": 27,
     "metadata": {},
     "output_type": "execute_result"
    }
   ],
   "source": [
    "#Random Forest regressor\n",
    "\n",
    "from sklearn.ensemble import RandomForestRegressor\n",
    "\n",
    "#Create Regressor\n",
    "rand_F = RandomForestRegressor(criterion='mse', max_depth=10, max_features=None, n_jobs=-1)\n",
    "\n",
    "#{'criterion': 'mse', 'max_depth': 10, 'max_features': None, 'n_jobs': -1}\n",
    "\n",
    "#Fit\n",
    "rand_F.fit(X_train1, y_train1)"
   ]
  },
  {
   "cell_type": "markdown",
   "metadata": {},
   "source": [
    "RMSE Metric\n",
    "Scores:  [0.17184903 0.18673306 0.15451401]\n",
    "Mean: 0.17103203417143517\n",
    "Standard Deviation:  0.013166050755315364"
   ]
  },
  {
   "cell_type": "code",
   "execution_count": 28,
   "metadata": {},
   "outputs": [
    {
     "name": "stdout",
     "output_type": "stream",
     "text": [
      "RandomForestRegressor(bootstrap=True, criterion='mse', max_depth=10,\n",
      "           max_features=None, max_leaf_nodes=None,\n",
      "           min_impurity_decrease=0.0, min_impurity_split=None,\n",
      "           min_samples_leaf=1, min_samples_split=2,\n",
      "           min_weight_fraction_leaf=0.0, n_estimators=10, n_jobs=-1,\n",
      "           oob_score=False, random_state=None, verbose=0, warm_start=False)\n"
     ]
    }
   ],
   "source": [
    "print rand_F"
   ]
  },
  {
   "cell_type": "markdown",
   "metadata": {},
   "source": [
    "### Metric Root Mean Squared Error (RMSE) for test set\\"
   ]
  },
  {
   "cell_type": "code",
   "execution_count": 29,
   "metadata": {},
   "outputs": [],
   "source": [
    "#RMSE with cross validation\n",
    "from sklearn.metrics import mean_squared_error\n",
    "def rmse(y, y_pred):\n",
    "    return np.sqrt(mean_squared_error(y, y_pred))"
   ]
  },
  {
   "cell_type": "markdown",
   "metadata": {},
   "source": [
    "### Predict for testing set\n",
    "\n",
    "> **NOTE:** Just the promissing models were tested. To undestand the process, read the *report.pdf* file."
   ]
  },
  {
   "cell_type": "code",
   "execution_count": 30,
   "metadata": {},
   "outputs": [
    {
     "name": "stdout",
     "output_type": "stream",
     "text": [
      "0.12021920057347629\n"
     ]
    }
   ],
   "source": [
    "#Kernel Ridge Regressor\n",
    "\n",
    "ker_rid_pred = pd.Series(ker_rid.predict(X_train2), name='Ker Rid')\n",
    "\n",
    "print rmse(y_train2, ker_rid_pred)"
   ]
  },
  {
   "cell_type": "code",
   "execution_count": 31,
   "metadata": {},
   "outputs": [
    {
     "name": "stdout",
     "output_type": "stream",
     "text": [
      "0.1258998978204327\n"
     ]
    }
   ],
   "source": [
    "#Linear Regression\n",
    "\n",
    "lin_reg_pred = pd.Series(lin_reg.predict(X_train2), name='Lin Reg')\n",
    "\n",
    "print rmse(y_train2, lin_reg_pred)"
   ]
  },
  {
   "cell_type": "code",
   "execution_count": 32,
   "metadata": {},
   "outputs": [
    {
     "name": "stdout",
     "output_type": "stream",
     "text": [
      "0.12021450596905225\n"
     ]
    }
   ],
   "source": [
    "#LASSO Regressor\n",
    "\n",
    "lasso_pred = pd.Series(lasso.predict(X_train2), name='Lasso')\n",
    "\n",
    "print rmse(y_train2, lasso_pred)"
   ]
  },
  {
   "cell_type": "code",
   "execution_count": 33,
   "metadata": {},
   "outputs": [
    {
     "name": "stdout",
     "output_type": "stream",
     "text": [
      "0.12739788654328893\n"
     ]
    }
   ],
   "source": [
    "#Gradient Boosting Regressor\n",
    "GBR_pred = pd.Series(GBR.predict(X_train2), name='GBR')\n",
    "\n",
    "print rmse(y_train2, GBR_pred)\n"
   ]
  },
  {
   "cell_type": "markdown",
   "metadata": {},
   "source": [
    "> **NOTE:** The Random Forest will be the meta model (blender) and the others 5 will be the base models"
   ]
  },
  {
   "cell_type": "markdown",
   "metadata": {},
   "source": [
    "### Create Training Set for Blender"
   ]
  },
  {
   "cell_type": "code",
   "execution_count": 34,
   "metadata": {},
   "outputs": [
    {
     "data": {
      "text/html": [
       "<div>\n",
       "<style scoped>\n",
       "    .dataframe tbody tr th:only-of-type {\n",
       "        vertical-align: middle;\n",
       "    }\n",
       "\n",
       "    .dataframe tbody tr th {\n",
       "        vertical-align: top;\n",
       "    }\n",
       "\n",
       "    .dataframe thead th {\n",
       "        text-align: right;\n",
       "    }\n",
       "</style>\n",
       "<table border=\"1\" class=\"dataframe\">\n",
       "  <thead>\n",
       "    <tr style=\"text-align: right;\">\n",
       "      <th></th>\n",
       "      <th>Ker Rid</th>\n",
       "      <th>Lasso</th>\n",
       "      <th>Lin Reg</th>\n",
       "      <th>GBR</th>\n",
       "    </tr>\n",
       "  </thead>\n",
       "  <tbody>\n",
       "    <tr>\n",
       "      <th>0</th>\n",
       "      <td>11.916197</td>\n",
       "      <td>11.915955</td>\n",
       "      <td>11.907923</td>\n",
       "      <td>11.791391</td>\n",
       "    </tr>\n",
       "    <tr>\n",
       "      <th>1</th>\n",
       "      <td>12.151964</td>\n",
       "      <td>12.137761</td>\n",
       "      <td>12.130575</td>\n",
       "      <td>12.126688</td>\n",
       "    </tr>\n",
       "    <tr>\n",
       "      <th>2</th>\n",
       "      <td>12.310652</td>\n",
       "      <td>12.429077</td>\n",
       "      <td>12.392984</td>\n",
       "      <td>12.479528</td>\n",
       "    </tr>\n",
       "    <tr>\n",
       "      <th>3</th>\n",
       "      <td>12.370705</td>\n",
       "      <td>12.389677</td>\n",
       "      <td>12.384879</td>\n",
       "      <td>12.472628</td>\n",
       "    </tr>\n",
       "    <tr>\n",
       "      <th>4</th>\n",
       "      <td>12.047112</td>\n",
       "      <td>12.046128</td>\n",
       "      <td>12.044401</td>\n",
       "      <td>12.059080</td>\n",
       "    </tr>\n",
       "  </tbody>\n",
       "</table>\n",
       "</div>"
      ],
      "text/plain": [
       "     Ker Rid      Lasso    Lin Reg        GBR\n",
       "0  11.916197  11.915955  11.907923  11.791391\n",
       "1  12.151964  12.137761  12.130575  12.126688\n",
       "2  12.310652  12.429077  12.392984  12.479528\n",
       "3  12.370705  12.389677  12.384879  12.472628\n",
       "4  12.047112  12.046128  12.044401  12.059080"
      ]
     },
     "metadata": {},
     "output_type": "display_data"
    }
   ],
   "source": [
    "blender_train = pd.concat([ker_rid_pred, lasso_pred, lin_reg_pred, GBR_pred], axis=1)\n",
    "#elastic_pred, lin_svr_pred,lasso_pred,\n",
    "\n",
    "display(blender_train.head())"
   ]
  },
  {
   "cell_type": "markdown",
   "metadata": {},
   "source": [
    "### Create and Fit the Meta-Learner (Blender) - Linear Regression"
   ]
  },
  {
   "cell_type": "code",
   "execution_count": 35,
   "metadata": {},
   "outputs": [
    {
     "data": {
      "text/plain": [
       "RandomForestRegressor(bootstrap=True, criterion='mse', max_depth=None,\n",
       "           max_features='auto', max_leaf_nodes=None,\n",
       "           min_impurity_decrease=0.0, min_impurity_split=None,\n",
       "           min_samples_leaf=1, min_samples_split=2,\n",
       "           min_weight_fraction_leaf=0.0, n_estimators=500, n_jobs=-1,\n",
       "           oob_score=False, random_state=None, verbose=0, warm_start=False)"
      ]
     },
     "execution_count": 35,
     "metadata": {},
     "output_type": "execute_result"
    }
   ],
   "source": [
    "#Random Forest\n",
    "from sklearn.ensemble import RandomForestRegressor\n",
    "\n",
    "blender = RandomForestRegressor(n_estimators=500, n_jobs=-1)\n",
    "\n",
    "#Fit\n",
    "blender.fit(blender_train, y_train2)\n"
   ]
  },
  {
   "cell_type": "markdown",
   "metadata": {},
   "source": [
    "### Test blender"
   ]
  },
  {
   "cell_type": "code",
   "execution_count": 36,
   "metadata": {},
   "outputs": [
    {
     "name": "stdout",
     "output_type": "stream",
     "text": [
      "0.12677709821050961\n",
      "0.1337052011759785\n",
      "0.1261990159984683\n",
      "0.14644328504557502\n"
     ]
    }
   ],
   "source": [
    "#Kernel Ridge Regressor\n",
    "ker_rid_pred_t = pd.Series(ker_rid.predict(X_test), name='Ker Rid')\n",
    "print rmse(y_test, ker_rid_pred_t)\n",
    "\n",
    "#Linear Regression\n",
    "lin_reg_pred_t = pd.Series(lin_reg.predict(X_test), name='Lin Reg')\n",
    "print rmse(y_test, lin_reg_pred_t)\n",
    "\n",
    "\n",
    "#LASSO\n",
    "lasso_pred_t = pd.Series(lasso.predict(X_test), name='Lasso')\n",
    "print rmse(y_test, lasso_pred_t)\n",
    "\n",
    "#GBR\n",
    "GBR_pred_t = pd.Series(GBR.predict(X_test), name='GBR')\n",
    "print rmse(y_test, GBR_pred_t)\n"
   ]
  },
  {
   "cell_type": "code",
   "execution_count": 37,
   "metadata": {},
   "outputs": [],
   "source": [
    "#create a test dataset for blender simulation\n",
    "blender_test = pd.concat([ker_rid_pred_t, lasso_pred_t, lin_reg_pred_t, GBR_pred_t], axis=1)"
   ]
  },
  {
   "cell_type": "code",
   "execution_count": 38,
   "metadata": {},
   "outputs": [
    {
     "name": "stdout",
     "output_type": "stream",
     "text": [
      "0.14421750431363592\n"
     ]
    }
   ],
   "source": [
    "#blender prediction\n",
    "result_t = blender.predict(blender_test)\n",
    "\n",
    "#evaluation of blender testing simulation\n",
    "print rmse(y_test, result_t)"
   ]
  },
  {
   "cell_type": "markdown",
   "metadata": {},
   "source": [
    "> **NOTE:** Now, the Blender is ready to predict better value based on individual models predictions."
   ]
  },
  {
   "cell_type": "markdown",
   "metadata": {},
   "source": [
    "## Emsemble - Test dataset (submission file)"
   ]
  },
  {
   "cell_type": "code",
   "execution_count": 39,
   "metadata": {},
   "outputs": [
    {
     "data": {
      "text/html": [
       "<div>\n",
       "<style scoped>\n",
       "    .dataframe tbody tr th:only-of-type {\n",
       "        vertical-align: middle;\n",
       "    }\n",
       "\n",
       "    .dataframe tbody tr th {\n",
       "        vertical-align: top;\n",
       "    }\n",
       "\n",
       "    .dataframe thead th {\n",
       "        text-align: right;\n",
       "    }\n",
       "</style>\n",
       "<table border=\"1\" class=\"dataframe\">\n",
       "  <thead>\n",
       "    <tr style=\"text-align: right;\">\n",
       "      <th></th>\n",
       "      <th>Id</th>\n",
       "      <th>MSSubClass</th>\n",
       "      <th>LotArea</th>\n",
       "      <th>OverallQual</th>\n",
       "      <th>OverallCond</th>\n",
       "      <th>YearBuilt</th>\n",
       "      <th>YearRemodAdd</th>\n",
       "      <th>BsmtFinSF1</th>\n",
       "      <th>BsmtFinSF2</th>\n",
       "      <th>BsmtUnfSF</th>\n",
       "      <th>...</th>\n",
       "      <th>SaleType_ConLw</th>\n",
       "      <th>SaleType_New</th>\n",
       "      <th>SaleType_Oth</th>\n",
       "      <th>SaleType_WD</th>\n",
       "      <th>SaleCondition_Abnorml</th>\n",
       "      <th>SaleCondition_AdjLand</th>\n",
       "      <th>SaleCondition_Alloca</th>\n",
       "      <th>SaleCondition_Family</th>\n",
       "      <th>SaleCondition_Normal</th>\n",
       "      <th>SaleCondition_Partial</th>\n",
       "    </tr>\n",
       "  </thead>\n",
       "  <tbody>\n",
       "    <tr>\n",
       "      <th>0</th>\n",
       "      <td>1461</td>\n",
       "      <td>20</td>\n",
       "      <td>9.360741</td>\n",
       "      <td>5</td>\n",
       "      <td>1.945910</td>\n",
       "      <td>1961</td>\n",
       "      <td>1961</td>\n",
       "      <td>6.150603</td>\n",
       "      <td>4.976734</td>\n",
       "      <td>5.602119</td>\n",
       "      <td>...</td>\n",
       "      <td>0</td>\n",
       "      <td>0</td>\n",
       "      <td>0</td>\n",
       "      <td>1</td>\n",
       "      <td>0</td>\n",
       "      <td>0</td>\n",
       "      <td>0</td>\n",
       "      <td>0</td>\n",
       "      <td>1</td>\n",
       "      <td>0</td>\n",
       "    </tr>\n",
       "    <tr>\n",
       "      <th>1</th>\n",
       "      <td>1462</td>\n",
       "      <td>20</td>\n",
       "      <td>9.565775</td>\n",
       "      <td>6</td>\n",
       "      <td>1.945910</td>\n",
       "      <td>1958</td>\n",
       "      <td>1958</td>\n",
       "      <td>6.828712</td>\n",
       "      <td>0.000000</td>\n",
       "      <td>6.008813</td>\n",
       "      <td>...</td>\n",
       "      <td>0</td>\n",
       "      <td>0</td>\n",
       "      <td>0</td>\n",
       "      <td>1</td>\n",
       "      <td>0</td>\n",
       "      <td>0</td>\n",
       "      <td>0</td>\n",
       "      <td>0</td>\n",
       "      <td>1</td>\n",
       "      <td>0</td>\n",
       "    </tr>\n",
       "    <tr>\n",
       "      <th>2</th>\n",
       "      <td>1463</td>\n",
       "      <td>60</td>\n",
       "      <td>9.534668</td>\n",
       "      <td>5</td>\n",
       "      <td>1.791759</td>\n",
       "      <td>1997</td>\n",
       "      <td>1998</td>\n",
       "      <td>6.674561</td>\n",
       "      <td>0.000000</td>\n",
       "      <td>4.927254</td>\n",
       "      <td>...</td>\n",
       "      <td>0</td>\n",
       "      <td>0</td>\n",
       "      <td>0</td>\n",
       "      <td>1</td>\n",
       "      <td>0</td>\n",
       "      <td>0</td>\n",
       "      <td>0</td>\n",
       "      <td>0</td>\n",
       "      <td>1</td>\n",
       "      <td>0</td>\n",
       "    </tr>\n",
       "    <tr>\n",
       "      <th>3</th>\n",
       "      <td>1464</td>\n",
       "      <td>60</td>\n",
       "      <td>9.208238</td>\n",
       "      <td>6</td>\n",
       "      <td>1.945910</td>\n",
       "      <td>1998</td>\n",
       "      <td>1998</td>\n",
       "      <td>6.401917</td>\n",
       "      <td>0.000000</td>\n",
       "      <td>5.783825</td>\n",
       "      <td>...</td>\n",
       "      <td>0</td>\n",
       "      <td>0</td>\n",
       "      <td>0</td>\n",
       "      <td>1</td>\n",
       "      <td>0</td>\n",
       "      <td>0</td>\n",
       "      <td>0</td>\n",
       "      <td>0</td>\n",
       "      <td>1</td>\n",
       "      <td>0</td>\n",
       "    </tr>\n",
       "    <tr>\n",
       "      <th>4</th>\n",
       "      <td>1465</td>\n",
       "      <td>120</td>\n",
       "      <td>8.518392</td>\n",
       "      <td>8</td>\n",
       "      <td>1.791759</td>\n",
       "      <td>1992</td>\n",
       "      <td>1992</td>\n",
       "      <td>5.575949</td>\n",
       "      <td>0.000000</td>\n",
       "      <td>6.925595</td>\n",
       "      <td>...</td>\n",
       "      <td>0</td>\n",
       "      <td>0</td>\n",
       "      <td>0</td>\n",
       "      <td>1</td>\n",
       "      <td>0</td>\n",
       "      <td>0</td>\n",
       "      <td>0</td>\n",
       "      <td>0</td>\n",
       "      <td>1</td>\n",
       "      <td>0</td>\n",
       "    </tr>\n",
       "  </tbody>\n",
       "</table>\n",
       "<p>5 rows × 221 columns</p>\n",
       "</div>"
      ],
      "text/plain": [
       "     Id  MSSubClass   LotArea  OverallQual  OverallCond  YearBuilt  \\\n",
       "0  1461          20  9.360741            5     1.945910       1961   \n",
       "1  1462          20  9.565775            6     1.945910       1958   \n",
       "2  1463          60  9.534668            5     1.791759       1997   \n",
       "3  1464          60  9.208238            6     1.945910       1998   \n",
       "4  1465         120  8.518392            8     1.791759       1992   \n",
       "\n",
       "   YearRemodAdd  BsmtFinSF1  BsmtFinSF2  BsmtUnfSF          ...            \\\n",
       "0          1961    6.150603    4.976734   5.602119          ...             \n",
       "1          1958    6.828712    0.000000   6.008813          ...             \n",
       "2          1998    6.674561    0.000000   4.927254          ...             \n",
       "3          1998    6.401917    0.000000   5.783825          ...             \n",
       "4          1992    5.575949    0.000000   6.925595          ...             \n",
       "\n",
       "   SaleType_ConLw  SaleType_New  SaleType_Oth  SaleType_WD  \\\n",
       "0               0             0             0            1   \n",
       "1               0             0             0            1   \n",
       "2               0             0             0            1   \n",
       "3               0             0             0            1   \n",
       "4               0             0             0            1   \n",
       "\n",
       "   SaleCondition_Abnorml  SaleCondition_AdjLand  SaleCondition_Alloca  \\\n",
       "0                      0                      0                     0   \n",
       "1                      0                      0                     0   \n",
       "2                      0                      0                     0   \n",
       "3                      0                      0                     0   \n",
       "4                      0                      0                     0   \n",
       "\n",
       "   SaleCondition_Family  SaleCondition_Normal  SaleCondition_Partial  \n",
       "0                     0                     1                      0  \n",
       "1                     0                     1                      0  \n",
       "2                     0                     1                      0  \n",
       "3                     0                     1                      0  \n",
       "4                     0                     1                      0  \n",
       "\n",
       "[5 rows x 221 columns]"
      ]
     },
     "metadata": {},
     "output_type": "display_data"
    },
    {
     "name": "stdout",
     "output_type": "stream",
     "text": [
      "(1459, 221)\n"
     ]
    }
   ],
   "source": [
    "#load the test dataset\n",
    "test =  pd.read_pickle(\"./data/preprocessed/preprocessed_test.pkl\")\n",
    "display(test.head())\n",
    "print test.shape\n",
    "#select the features\n",
    "features_test = test.drop(labels=['Id'], axis=1)\n",
    "#save the ientification features\n",
    "ID_test = test['Id']"
   ]
  },
  {
   "cell_type": "code",
   "execution_count": 40,
   "metadata": {},
   "outputs": [
    {
     "data": {
      "text/plain": [
       "0    1461\n",
       "1    1462\n",
       "2    1463\n",
       "3    1464\n",
       "4    1465\n",
       "Name: Id, dtype: int64"
      ]
     },
     "metadata": {},
     "output_type": "display_data"
    },
    {
     "data": {
      "text/plain": [
       "1454    2915\n",
       "1455    2916\n",
       "1456    2917\n",
       "1457    2918\n",
       "1458    2919\n",
       "Name: Id, dtype: int64"
      ]
     },
     "metadata": {},
     "output_type": "display_data"
    }
   ],
   "source": [
    "display(ID_test.head())\n",
    "\n",
    "display(ID_test.tail())\n",
    "\n",
    "\n"
   ]
  },
  {
   "cell_type": "code",
   "execution_count": 41,
   "metadata": {},
   "outputs": [],
   "source": [
    "#Kernel Ridge Regressor\n",
    "ker_rid_pred_test = pd.Series(ker_rid.predict(features_test), name='Ker Rid')\n",
    "\n",
    "#Linear Regression\n",
    "lin_reg_pred_test = pd.Series(lin_reg.predict(features_test), name='Lin Reg')\n",
    "\n",
    "#LASSO\n",
    "lasso_pred_test = pd.Series(lasso.predict(features_test), name='Lasso')\n",
    "\n",
    "#GBR\n",
    "GBR_pred_test = pd.Series(GBR.predict(features_test), name='GBR')\n"
   ]
  },
  {
   "cell_type": "code",
   "execution_count": 42,
   "metadata": {},
   "outputs": [
    {
     "name": "stdout",
     "output_type": "stream",
     "text": [
      "     Ker Rid      Lasso    Lin Reg        GBR\n",
      "0  11.701419  11.735217  11.742813  11.732753\n",
      "1  11.938317  11.935272  11.933595  11.969904\n",
      "2  12.105875  12.114791  12.118590  12.086266\n",
      "3  12.173803  12.163318  12.162624  12.153368\n",
      "4  12.278374  12.253453  12.263064  12.198420\n"
     ]
    }
   ],
   "source": [
    "blender_test = pd.concat([ker_rid_pred_test, lasso_pred_test, lin_reg_pred_test, GBR_pred_test], axis=1)\n",
    "#elastic_pred_test, lin_svr_pred_test, lasso_pred_test,\n",
    "print blender_test.head()\n",
    "\n",
    "#E = pd.concat([elastic_pred_test, sgd_pred_test, ker_rid_pred_test], axis=1)\n",
    "#E['Id'] = ID_test\n",
    "#print E.head(1393)\n",
    "#E.to_csv(\"./submission_file/erro2.csv\",index=False)\n"
   ]
  },
  {
   "cell_type": "code",
   "execution_count": 43,
   "metadata": {},
   "outputs": [],
   "source": [
    "result_test = blender.predict(blender_test)"
   ]
  },
  {
   "cell_type": "markdown",
   "metadata": {},
   "source": [
    "### Submission Test File "
   ]
  },
  {
   "cell_type": "code",
   "execution_count": 44,
   "metadata": {},
   "outputs": [
    {
     "data": {
      "text/plain": [
       "1459"
      ]
     },
     "execution_count": 44,
     "metadata": {},
     "output_type": "execute_result"
    }
   ],
   "source": [
    "#verify the lenght\n",
    "len(result_test)"
   ]
  },
  {
   "cell_type": "code",
   "execution_count": 45,
   "metadata": {},
   "outputs": [
    {
     "data": {
      "text/plain": [
       "1459"
      ]
     },
     "execution_count": 45,
     "metadata": {},
     "output_type": "execute_result"
    }
   ],
   "source": [
    "#verify the lenght\n",
    "len(ID_test)"
   ]
  },
  {
   "cell_type": "code",
   "execution_count": 46,
   "metadata": {},
   "outputs": [],
   "source": [
    "#create a dataframe for submission\n",
    "submission = pd.DataFrame()\n",
    "#create a column for ID\n",
    "submission['Id'] = ID_test\n",
    "#inverse transformation of result\n",
    "submission['SalePrice'] = np.expm1(result_test)\n",
    "\n",
    "#save as a .csv file\n",
    "submission.to_csv(\"./submission_file/submission34_4.csv\",index=False)"
   ]
  },
  {
   "cell_type": "code",
   "execution_count": 47,
   "metadata": {},
   "outputs": [],
   "source": [
    "#load to verify the file\n",
    "result_load = pd.read_csv(\"./submission_file/submission34_4.csv\")"
   ]
  },
  {
   "cell_type": "code",
   "execution_count": 48,
   "metadata": {},
   "outputs": [
    {
     "data": {
      "text/html": [
       "<div>\n",
       "<style scoped>\n",
       "    .dataframe tbody tr th:only-of-type {\n",
       "        vertical-align: middle;\n",
       "    }\n",
       "\n",
       "    .dataframe tbody tr th {\n",
       "        vertical-align: top;\n",
       "    }\n",
       "\n",
       "    .dataframe thead th {\n",
       "        text-align: right;\n",
       "    }\n",
       "</style>\n",
       "<table border=\"1\" class=\"dataframe\">\n",
       "  <thead>\n",
       "    <tr style=\"text-align: right;\">\n",
       "      <th></th>\n",
       "      <th>Id</th>\n",
       "      <th>SalePrice</th>\n",
       "    </tr>\n",
       "  </thead>\n",
       "  <tbody>\n",
       "    <tr>\n",
       "      <th>0</th>\n",
       "      <td>1461</td>\n",
       "      <td>122237.725494</td>\n",
       "    </tr>\n",
       "    <tr>\n",
       "      <th>1</th>\n",
       "      <td>1462</td>\n",
       "      <td>155037.995887</td>\n",
       "    </tr>\n",
       "    <tr>\n",
       "      <th>2</th>\n",
       "      <td>1463</td>\n",
       "      <td>168064.764881</td>\n",
       "    </tr>\n",
       "    <tr>\n",
       "      <th>3</th>\n",
       "      <td>1464</td>\n",
       "      <td>195445.453567</td>\n",
       "    </tr>\n",
       "    <tr>\n",
       "      <th>4</th>\n",
       "      <td>1465</td>\n",
       "      <td>214702.837957</td>\n",
       "    </tr>\n",
       "    <tr>\n",
       "      <th>5</th>\n",
       "      <td>1466</td>\n",
       "      <td>171095.384644</td>\n",
       "    </tr>\n",
       "    <tr>\n",
       "      <th>6</th>\n",
       "      <td>1467</td>\n",
       "      <td>184543.866710</td>\n",
       "    </tr>\n",
       "    <tr>\n",
       "      <th>7</th>\n",
       "      <td>1468</td>\n",
       "      <td>157707.677162</td>\n",
       "    </tr>\n",
       "    <tr>\n",
       "      <th>8</th>\n",
       "      <td>1469</td>\n",
       "      <td>197724.168786</td>\n",
       "    </tr>\n",
       "    <tr>\n",
       "      <th>9</th>\n",
       "      <td>1470</td>\n",
       "      <td>120662.810645</td>\n",
       "    </tr>\n",
       "  </tbody>\n",
       "</table>\n",
       "</div>"
      ],
      "text/plain": [
       "     Id      SalePrice\n",
       "0  1461  122237.725494\n",
       "1  1462  155037.995887\n",
       "2  1463  168064.764881\n",
       "3  1464  195445.453567\n",
       "4  1465  214702.837957\n",
       "5  1466  171095.384644\n",
       "6  1467  184543.866710\n",
       "7  1468  157707.677162\n",
       "8  1469  197724.168786\n",
       "9  1470  120662.810645"
      ]
     },
     "metadata": {},
     "output_type": "display_data"
    }
   ],
   "source": [
    "#Display the result\n",
    "display(result_load.head(10))"
   ]
  },
  {
   "cell_type": "code",
   "execution_count": 49,
   "metadata": {},
   "outputs": [
    {
     "name": "stdout",
     "output_type": "stream",
     "text": [
      "Empty DataFrame\n",
      "Columns: [Id, SalePrice]\n",
      "Index: []\n",
      "Series([], Name: Id, dtype: int64)\n"
     ]
    }
   ],
   "source": [
    "#verify if there is negative values\n",
    "print result_load[result_load['SalePrice']<0]\n",
    "neg_index = result_load['Id'][result_load['SalePrice']<0]\n",
    "print neg_index"
   ]
  }
 ],
 "metadata": {
  "kernelspec": {
   "display_name": "Python 2",
   "language": "python",
   "name": "python2"
  },
  "language_info": {
   "codemirror_mode": {
    "name": "ipython",
    "version": 2
   },
   "file_extension": ".py",
   "mimetype": "text/x-python",
   "name": "python",
   "nbconvert_exporter": "python",
   "pygments_lexer": "ipython2",
   "version": "2.7.14"
  }
 },
 "nbformat": 4,
 "nbformat_minor": 2
}
